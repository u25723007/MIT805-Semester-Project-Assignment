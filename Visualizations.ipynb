{
 "cells": [
  {
   "cell_type": "code",
   "execution_count": null,
   "id": "96bfdc37-8bc0-45db-8e70-ef5b4f95a319",
   "metadata": {},
   "outputs": [],
   "source": []
  },
  {
   "cell_type": "code",
   "execution_count": null,
   "id": "eedf8c7e-d3da-4edc-adf3-f459bbca74ea",
   "metadata": {},
   "outputs": [],
   "source": []
  },
  {
   "cell_type": "code",
   "execution_count": null,
   "id": "f7f26b48-aab3-4a5c-a1ab-3d2b40c45bc6",
   "metadata": {},
   "outputs": [],
   "source": [
    "import pandas as pd\n",
    "import matplotlib.pyplot as plt"
   ]
  },
  {
   "cell_type": "code",
   "execution_count": null,
   "id": "293988b6-906e-46bf-891f-3add545c14ba",
   "metadata": {},
   "outputs": [],
   "source": [
    "#Heatmap (top zones × hour-of-day)\n",
    "\n",
    "\n",
    "zone_hour_pd = pd.read_parquet(OUT_ZONE)                 # columns: zone, hour, trips\n",
    "zone_hour_pd['hod'] = pd.to_datetime(zone_hour_pd['hour']).dt.hour\n",
    "TOP_N = 20\n",
    "top_z = zone_hour_pd.groupby('zone')['trips'].sum().nlargest(TOP_N).index\n",
    "hm = (zone_hour_pd[zone_hour_pd['zone'].isin(top_z)]\n",
    "      .groupby(['zone','hod'])['trips'].sum().unstack(fill_value=0))\n",
    "\n",
    "plt.figure(figsize=(13,6))\n",
    "plt.imshow(hm.values, aspect='auto', interpolation='nearest')\n",
    "plt.colorbar(label='Trips')\n",
    "plt.yticks(range(len(hm.index)), hm.index)\n",
    "plt.xticks(range(24), range(24))\n",
    "plt.title(f\"Top {TOP_N} Zones — Trips by Hour of Day\")\n",
    "plt.xlabel(\"Hour of Day\"); plt.ylabel(\"Zone (LocationID)\")\n",
    "plt.tight_layout()"
   ]
  },
  {
   "cell_type": "code",
   "execution_count": null,
   "id": "31e8deee-8659-45bd-b2c6-8af44dfad5d4",
   "metadata": {},
   "outputs": [],
   "source": [
    "#Weather vs trips (citywide hourly)\n",
    "\n",
    "city = pd.read_parquet(OUT_WXJ)                      # columns: hour, trips, prcp, temp\n",
    "city['hour'] = pd.to_datetime(city['hour'])\n",
    "city = city.sort_values('hour').set_index('hour')\n",
    "city['trips_ma7d'] = city['trips'].rolling('7D').mean()\n",
    "\n",
    "fig, ax1 = plt.subplots(figsize=(13,4))\n",
    "city['trips_ma7d'].plot(ax=ax1)\n",
    "ax1.set_ylabel(\"Trips (7d MA)\")\n",
    "ax1.set_title(\"Citywide Demand vs Precipitation (Hourly)\")\n",
    "\n",
    "ax2 = ax1.twinx()\n",
    "city['prcp'].plot(ax=ax2, alpha=0.4)\n",
    "ax2.set_ylabel(\"Precipitation (mm)\")\n",
    "fig.tight_layout()\n"
   ]
  }
 ],
 "metadata": {
  "kernelspec": {
   "display_name": "Python 3 (ipykernel)",
   "language": "python",
   "name": "python3"
  },
  "language_info": {
   "codemirror_mode": {
    "name": "ipython",
    "version": 3
   },
   "file_extension": ".py",
   "mimetype": "text/x-python",
   "name": "python",
   "nbconvert_exporter": "python",
   "pygments_lexer": "ipython3",
   "version": "3.12.7"
  }
 },
 "nbformat": 4,
 "nbformat_minor": 5
}
